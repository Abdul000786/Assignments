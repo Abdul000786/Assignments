{
 "cells": [
  {
   "cell_type": "code",
   "execution_count": 2,
   "id": "4cc37a16",
   "metadata": {},
   "outputs": [],
   "source": [
    "#Question 1\n",
    "def reversestring(n):\n",
    "    if type(n)==str:\n",
    "        return n[::-1]\n",
    "    else:\n",
    "        return \"you haven't passed string\""
   ]
  },
  {
   "cell_type": "code",
   "execution_count": 3,
   "id": "e096b7cd",
   "metadata": {},
   "outputs": [
    {
     "data": {
      "text/plain": [
       "'ludba'"
      ]
     },
     "execution_count": 3,
     "metadata": {},
     "output_type": "execute_result"
    }
   ],
   "source": [
    "reversestring('abdul')"
   ]
  },
  {
   "cell_type": "code",
   "execution_count": 4,
   "id": "369b96a8",
   "metadata": {},
   "outputs": [],
   "source": [
    "#Question 2\n",
    "def palindrome(n):\n",
    "    if n[::]==n[::-1]:\n",
    "        print('it is palindrome')\n",
    "    else:\n",
    "        print('it is not palindrome')"
   ]
  },
  {
   "cell_type": "code",
   "execution_count": 6,
   "id": "d689a015",
   "metadata": {},
   "outputs": [
    {
     "name": "stdout",
     "output_type": "stream",
     "text": [
      "it is palindrome\n"
     ]
    }
   ],
   "source": [
    "palindrome('tnent')"
   ]
  },
  {
   "cell_type": "code",
   "execution_count": 14,
   "id": "2d3e5d05",
   "metadata": {},
   "outputs": [],
   "source": [
    "#Question 3\n",
    "def largest_element(n):\n",
    "    l=[]\n",
    "    if type(n)==list:\n",
    "        for i in n:\n",
    "            if type(i)==int:\n",
    "                l.append(i)\n",
    "            elif type(i)==list:\n",
    "                for j in i:\n",
    "                    if type(j)==int:\n",
    "                        l.append(j)\n",
    "        return max(l)"
   ]
  },
  {
   "cell_type": "code",
   "execution_count": 16,
   "id": "50059dfb",
   "metadata": {},
   "outputs": [
    {
     "data": {
      "text/plain": [
       "67"
      ]
     },
     "execution_count": 16,
     "metadata": {},
     "output_type": "execute_result"
    }
   ],
   "source": [
    "largest_element([1,2,3,4,5,6,[45,67,8,9,'abdul']])"
   ]
  },
  {
   "cell_type": "code",
   "execution_count": 20,
   "id": "5b9c0db1",
   "metadata": {},
   "outputs": [],
   "source": [
    "#Question 4\n",
    "def count_elements(lst):\n",
    "    counts = {}\n",
    "    for element in lst:\n",
    "        if element in counts:\n",
    "            counts[element] += 1\n",
    "        else:\n",
    "            counts[element] = 1\n",
    "    return counts\n"
   ]
  },
  {
   "cell_type": "code",
   "execution_count": 21,
   "id": "ae7585cf",
   "metadata": {},
   "outputs": [
    {
     "data": {
      "text/plain": [
       "{1: 3, 3: 1, 4: 1, 5: 1, 6: 1}"
      ]
     },
     "execution_count": 21,
     "metadata": {},
     "output_type": "execute_result"
    }
   ],
   "source": [
    "count_elements([1,1,1,3,4,5,6])"
   ]
  },
  {
   "cell_type": "code",
   "execution_count": 31,
   "id": "19c3e581",
   "metadata": {},
   "outputs": [
    {
     "name": "stdout",
     "output_type": "stream",
     "text": [
      "The second largest number is: 8\n"
     ]
    }
   ],
   "source": [
    "#Question 5\n",
    "def find_second_largest(lst):\n",
    "    if len(lst) < 2:\n",
    "        return \"List should have at least two elements\"\n",
    "    \n",
    "    largest = float('-inf')\n",
    "    second_largest = float('-inf')\n",
    "    \n",
    "    for num in lst:\n",
    "        if num > largest:\n",
    "            second_largest = largest\n",
    "            largest = num\n",
    "        elif num > second_largest and num != largest:\n",
    "            second_largest = num\n",
    "    \n",
    "    if second_largest == float('-inf'):\n",
    "        return \"There is no second largest number\"\n",
    "    else:\n",
    "        return second_largest\n",
    "\n",
    "\n",
    "list = [5, 2, 8, 9, 1, 7, 3]\n",
    "result = find_second_largest(list)\n",
    "print(\"The second largest number is:\", result)\n"
   ]
  },
  {
   "cell_type": "code",
   "execution_count": 48,
   "id": "3dbbcc9f",
   "metadata": {},
   "outputs": [],
   "source": [
    "#Question 6\n",
    "def remove_duplicates(lst):\n",
    "    unique_list = []\n",
    "    for element in lst:\n",
    "        if element not in unique_list:\n",
    "            unique_list.append(element)\n",
    "    return unique_list\n"
   ]
  },
  {
   "cell_type": "code",
   "execution_count": 49,
   "id": "3cd115fe",
   "metadata": {},
   "outputs": [
    {
     "data": {
      "text/plain": [
       "[1, 2, 3, 35, 45, 33, 21]"
      ]
     },
     "execution_count": 49,
     "metadata": {},
     "output_type": "execute_result"
    }
   ],
   "source": [
    "remove_duplicates([1,1,1,1,1,2,2,2,2,3,35,45,45,45,33,21])"
   ]
  },
  {
   "cell_type": "code",
   "execution_count": 50,
   "id": "338796eb",
   "metadata": {},
   "outputs": [],
   "source": [
    "#Question 7\n",
    "def factorial(n):\n",
    "    if n < 0:\n",
    "        return \"Factorial is not defined for negative numbers\"\n",
    "    elif n == 0 or n == 1:\n",
    "        return 1\n",
    "    else:\n",
    "        result = 1\n",
    "        for i in range(2, n + 1):\n",
    "            result *= i\n",
    "        return result\n"
   ]
  },
  {
   "cell_type": "code",
   "execution_count": 52,
   "id": "4a891920",
   "metadata": {},
   "outputs": [
    {
     "name": "stdout",
     "output_type": "stream",
     "text": [
      "The factorial of 4 is: 24\n"
     ]
    }
   ],
   "source": [
    "n = 4\n",
    "result = factorial(n)\n",
    "print(\"The factorial of\", n, \"is:\", result)"
   ]
  },
  {
   "cell_type": "code",
   "execution_count": 53,
   "id": "98177ff5",
   "metadata": {},
   "outputs": [],
   "source": [
    "#Question 8\n",
    "def check_prime(n):\n",
    "    if n <= 1:\n",
    "        return False\n",
    "\n",
    "    for i in range(2, n):\n",
    "        if n % i == 0:\n",
    "            return False\n",
    "\n",
    "    return True\n"
   ]
  },
  {
   "cell_type": "code",
   "execution_count": 55,
   "id": "9dd7987c",
   "metadata": {},
   "outputs": [
    {
     "name": "stdout",
     "output_type": "stream",
     "text": [
      "17 is a prime number\n"
     ]
    }
   ],
   "source": [
    "n = 17\n",
    "if check_prime(n):\n",
    "    print(n, \"is a prime number\")\n",
    "else:\n",
    "    print(n, \"is not a prime number\")"
   ]
  },
  {
   "cell_type": "code",
   "execution_count": 60,
   "id": "fa8a1d05",
   "metadata": {},
   "outputs": [],
   "source": [
    "#Questoin 9\n",
    "\n",
    "def ascending_sort(l):\n",
    "    n=len(l)\n",
    "    for i in range(n):    \n",
    "        for j in range(0,n-i-1):\n",
    "            if l[j]>l[j+1]:\n",
    "                l[j],l[j+1]=l[j+1],l[j]\n",
    "    return l\n"
   ]
  },
  {
   "cell_type": "code",
   "execution_count": 61,
   "id": "ff8dfd08",
   "metadata": {},
   "outputs": [
    {
     "name": "stdout",
     "output_type": "stream",
     "text": [
      "sorted array we got : [5, 6, 8, 10, 12, 23, 34, 45, 98]\n"
     ]
    }
   ],
   "source": [
    "l=[34,5,6,23,45,98,12,8,10]\n",
    "result= ascending_sort(l)\n",
    "print(\"sorted array we got :\", result)"
   ]
  },
  {
   "cell_type": "code",
   "execution_count": 82,
   "id": "5184990b",
   "metadata": {},
   "outputs": [],
   "source": [
    "#Question 10\n",
    "def sum_all(n):\n",
    "    sum=0\n",
    "    for i in n:\n",
    "        sum += i\n",
    "    return sum\n",
    "        "
   ]
  },
  {
   "cell_type": "code",
   "execution_count": 83,
   "id": "ffeec9fc",
   "metadata": {},
   "outputs": [
    {
     "name": "stdout",
     "output_type": "stream",
     "text": [
      "21\n"
     ]
    }
   ],
   "source": [
    "result=sum_all([1,2,3,4,5,6])\n",
    "print(result)"
   ]
  },
  {
   "cell_type": "code",
   "execution_count": 91,
   "id": "b836db0a",
   "metadata": {},
   "outputs": [
    {
     "name": "stdout",
     "output_type": "stream",
     "text": [
      "The common elements are: [4, 5]\n"
     ]
    }
   ],
   "source": [
    "#Question 11\n",
    "def find_common_elements(list1, list2):\n",
    "    l = []\n",
    "    for i in list1:\n",
    "        if i in list2:\n",
    "            l.append(i)\n",
    "    return l\n"
   ]
  },
  {
   "cell_type": "code",
   "execution_count": 94,
   "id": "739c7cd9",
   "metadata": {},
   "outputs": [
    {
     "name": "stdout",
     "output_type": "stream",
     "text": [
      "The common elements are: [44]\n"
     ]
    }
   ],
   "source": [
    "list1 = [1,42, 3, 44, 55]\n",
    "list2 = [44, 5, 66, 7, 8]\n",
    "result = find_common_elements(list1, list2)\n",
    "print(\"The common elements are:\", result)"
   ]
  },
  {
   "cell_type": "code",
   "execution_count": 99,
   "id": "91fce5cf",
   "metadata": {},
   "outputs": [
    {
     "name": "stdout",
     "output_type": "stream",
     "text": [
      "The strings are anagrams.\n"
     ]
    }
   ],
   "source": [
    "#Question 12\n",
    "def is_anagram(str1, str2):\n",
    "    \n",
    "    str1 = str1.replace(\" \", \"\").lower()\n",
    "    str2 = str2.replace(\" \", \"\").lower()\n",
    "\n",
    "    return sorted(str1) == sorted(str2)\n",
    "\n",
    "string1 = \"binary\"\n",
    "string2 = \"brainy\"\n",
    "if is_anagram(string1, string2):\n",
    "    print(\"The strings are anagrams.\")\n",
    "else:\n",
    "    print(\"The strings are not anagrams.\")\n"
   ]
  },
  {
   "cell_type": "code",
   "execution_count": 102,
   "id": "c6e4db28",
   "metadata": {},
   "outputs": [
    {
     "name": "stdout",
     "output_type": "stream",
     "text": [
      "Permutations of abdul are:\n",
      "abdul\n",
      "abdlu\n",
      "abudl\n",
      "abuld\n",
      "abldu\n",
      "ablud\n",
      "adbul\n",
      "adblu\n",
      "adubl\n",
      "adulb\n",
      "adlbu\n",
      "adlub\n",
      "aubdl\n",
      "aubld\n",
      "audbl\n",
      "audlb\n",
      "aulbd\n",
      "auldb\n",
      "albdu\n",
      "albud\n",
      "aldbu\n",
      "aldub\n",
      "alubd\n",
      "aludb\n",
      "badul\n",
      "badlu\n",
      "baudl\n",
      "bauld\n",
      "baldu\n",
      "balud\n",
      "bdaul\n",
      "bdalu\n",
      "bdual\n",
      "bdula\n",
      "bdlau\n",
      "bdlua\n",
      "buadl\n",
      "buald\n",
      "budal\n",
      "budla\n",
      "bulad\n",
      "bulda\n",
      "bladu\n",
      "blaud\n",
      "bldau\n",
      "bldua\n",
      "bluad\n",
      "bluda\n",
      "dabul\n",
      "dablu\n",
      "daubl\n",
      "daulb\n",
      "dalbu\n",
      "dalub\n",
      "dbaul\n",
      "dbalu\n",
      "dbual\n",
      "dbula\n",
      "dblau\n",
      "dblua\n",
      "duabl\n",
      "dualb\n",
      "dubal\n",
      "dubla\n",
      "dulab\n",
      "dulba\n",
      "dlabu\n",
      "dlaub\n",
      "dlbau\n",
      "dlbua\n",
      "dluab\n",
      "dluba\n",
      "uabdl\n",
      "uabld\n",
      "uadbl\n",
      "uadlb\n",
      "ualbd\n",
      "ualdb\n",
      "ubadl\n",
      "ubald\n",
      "ubdal\n",
      "ubdla\n",
      "ublad\n",
      "ublda\n",
      "udabl\n",
      "udalb\n",
      "udbal\n",
      "udbla\n",
      "udlab\n",
      "udlba\n",
      "ulabd\n",
      "uladb\n",
      "ulbad\n",
      "ulbda\n",
      "uldab\n",
      "uldba\n",
      "labdu\n",
      "labud\n",
      "ladbu\n",
      "ladub\n",
      "laubd\n",
      "laudb\n",
      "lbadu\n",
      "lbaud\n",
      "lbdau\n",
      "lbdua\n",
      "lbuad\n",
      "lbuda\n",
      "ldabu\n",
      "ldaub\n",
      "ldbau\n",
      "ldbua\n",
      "lduab\n",
      "lduba\n",
      "luabd\n",
      "luadb\n",
      "lubad\n",
      "lubda\n",
      "ludab\n",
      "ludba\n"
     ]
    }
   ],
   "source": [
    "#Question 13     \n",
    "def permutations(string):\n",
    "    if len(string) == 0:\n",
    "        return []\n",
    "\n",
    "    if len(string) == 1:\n",
    "        return [string]\n",
    "    perms = []\n",
    "\n",
    "    for i in range(len(string)):\n",
    "        current_char = string[i]\n",
    "        remaining_chars = string[:i] + string[i+1:]\n",
    "        subperms = permutations(remaining_chars)\n",
    "\n",
    "        for subperm in subperms:\n",
    "            perms.append(current_char + subperm)\n",
    "\n",
    "    return perms\n",
    "\n",
    "\n",
    "input_string = \"abdul\"\n",
    "result = permutations(input_string)\n",
    "print(\"Permutations of\", input_string, \"are:\")\n",
    "for perm in result:\n",
    "    print(perm)\n",
    "\n"
   ]
  },
  {
   "cell_type": "code",
   "execution_count": 111,
   "id": "165f42f0",
   "metadata": {},
   "outputs": [
    {
     "data": {
      "text/plain": [
       "<generator object fibonacci at 0x0000025180BF80B0>"
      ]
     },
     "execution_count": 111,
     "metadata": {},
     "output_type": "execute_result"
    }
   ],
   "source": [
    "#Question 14\n",
    "def fibonacci(n):\n",
    "    a=1\n",
    "    b=1\n",
    "    for i in range(n):\n",
    "        yield a,i\n",
    "        \n",
    "        a,b=b,a+b\n",
    "\n",
    "fibonacci(6)\n",
    "    "
   ]
  },
  {
   "cell_type": "code",
   "execution_count": 112,
   "id": "44c1cb4a",
   "metadata": {},
   "outputs": [
    {
     "name": "stdout",
     "output_type": "stream",
     "text": [
      "(1, 0)\n",
      "(1, 1)\n",
      "(2, 2)\n",
      "(3, 3)\n",
      "(5, 4)\n",
      "(8, 5)\n"
     ]
    }
   ],
   "source": [
    "for i in fibonacci(6):\n",
    "    print(i)"
   ]
  },
  {
   "cell_type": "code",
   "execution_count": 114,
   "id": "04eb07f2",
   "metadata": {},
   "outputs": [],
   "source": [
    "#Question 15\n",
    "def find_median(n):\n",
    "    sorted_numbers = sorted(n)\n",
    "    length = len(sorted_numbers)\n",
    "\n",
    "    if length % 2 == 0:\n",
    "        mid1 = sorted_numbers[length // 2 - 1]\n",
    "        mid2 = sorted_numbers[length // 2]\n",
    "        median = (mid1 + mid2) / 2\n",
    "    else:\n",
    "        median = sorted_numbers[length // 2]\n",
    "\n",
    "    return median"
   ]
  },
  {
   "cell_type": "code",
   "execution_count": 120,
   "id": "fbf27836",
   "metadata": {},
   "outputs": [
    {
     "name": "stdout",
     "output_type": "stream",
     "text": [
      "The median of the list is: 6.5\n"
     ]
    }
   ],
   "source": [
    "\n",
    "n= [23,4,6,7,12,4,45,2,3,7]\n",
    "result = find_median(n)\n",
    "print(\"The median of the list is:\", result)"
   ]
  },
  {
   "cell_type": "code",
   "execution_count": 127,
   "id": "466ef369",
   "metadata": {},
   "outputs": [
    {
     "name": "stdout",
     "output_type": "stream",
     "text": [
      "The list is sorted in non-decreasing order.\n"
     ]
    }
   ],
   "source": [
    "#Question 16\n",
    "def is_sorted(lst):\n",
    "    return lst == sorted(lst)\n",
    "\n",
    "my_list = [1, 2, 3, 4, 5]\n",
    "if is_sorted(my_list):\n",
    "    print(\"The list is sorted in non-decreasing order.\")\n",
    "else:\n",
    "    print(\"The list is not sorted in non-decreasing order.\")\n",
    "\n",
    "    "
   ]
  },
  {
   "cell_type": "code",
   "execution_count": 142,
   "id": "8ddae1d0",
   "metadata": {},
   "outputs": [
    {
     "name": "stdout",
     "output_type": "stream",
     "text": [
      "The intersection of the two lists is: [23, 12, 13]\n"
     ]
    }
   ],
   "source": [
    "#Question 17\n",
    "def find_intersection(list1, list2):\n",
    "    intersection = [value for value in list1 if value in list2]\n",
    "    return intersection\n",
    "\n",
    "# Example usage:\n",
    "list1 = [23,12,'ineuron',13]\n",
    "list2 = [34,23,12,14,13]\n",
    "result = find_intersection(list1, list2)\n",
    "print(\"The intersection of the two lists is:\", result)\n"
   ]
  },
  {
   "cell_type": "code",
   "execution_count": 143,
   "id": "c83e8342",
   "metadata": {},
   "outputs": [],
   "source": [
    "#Question 18\n",
    "def max_subarray_sum(arr):\n",
    "    if len(arr) == 0:\n",
    "        return 0\n",
    "\n",
    "    max_sum = float('-inf')\n",
    "    current_sum = 0\n",
    "\n",
    "    for num in arr:\n",
    "        current_sum += num\n",
    "\n",
    "        if current_sum > max_sum:\n",
    "            max_sum = current_sum\n",
    "\n",
    "        if current_sum < 0:\n",
    "            current_sum = 0\n",
    "\n",
    "    return max_sum"
   ]
  },
  {
   "cell_type": "code",
   "execution_count": 144,
   "id": "d72f9550",
   "metadata": {},
   "outputs": [
    {
     "name": "stdout",
     "output_type": "stream",
     "text": [
      "The maximum subarray sum is: 6\n"
     ]
    }
   ],
   "source": [
    "my_list = [-2, 1, -3, 4, -1, 2, 1, -5, 4]\n",
    "result = max_subarray_sum(my_list)\n",
    "print(\"The maximum subarray sum is:\", result)"
   ]
  },
  {
   "cell_type": "code",
   "execution_count": 8,
   "id": "19ca7b57",
   "metadata": {},
   "outputs": [
    {
     "name": "stdout",
     "output_type": "stream",
     "text": [
      "Hll, Wrld!\n"
     ]
    }
   ],
   "source": [
    "#Question 19 \n",
    "def remove_vowels(string):\n",
    "    vowels = ['a', 'e', 'i', 'o', 'u', 'A', 'E', 'I', 'O', 'U']\n",
    "    result = \"\"\n",
    "    for char in string:\n",
    "        if char not in vowels:\n",
    "            result += char\n",
    "    return result\n",
    "\n",
    "\n",
    "input_string = \"Hello, World!\"\n",
    "output_string = remove_vowels(input_string)\n",
    "print(output_string)  \n"
   ]
  },
  {
   "cell_type": "code",
   "execution_count": 9,
   "id": "52271141",
   "metadata": {},
   "outputs": [],
   "source": [
    "#Question 20\n",
    "def reverse_sentence(sentence):\n",
    "    words = sentence.split()  \n",
    "    reversed_words = words[::-1]  \n",
    "    reversed_sentence = ' '.join(reversed_words)  \n",
    "    return reversed_sentence"
   ]
  },
  {
   "cell_type": "code",
   "execution_count": 11,
   "id": "e743a391",
   "metadata": {},
   "outputs": [
    {
     "name": "stdout",
     "output_type": "stream",
     "text": [
      "assignment python a is this\n"
     ]
    }
   ],
   "source": [
    "input_sentence = \"this is a python assignment\"\n",
    "output_sentence = reverse_sentence(input_sentence)\n",
    "print(output_sentence)  # Output: \"sentence. a is This world! Hello,\"\n"
   ]
  },
  {
   "cell_type": "code",
   "execution_count": 13,
   "id": "bdbec88e",
   "metadata": {},
   "outputs": [
    {
     "name": "stdout",
     "output_type": "stream",
     "text": [
      "binary and brainy are anagrams.\n"
     ]
    }
   ],
   "source": [
    "#Question 21\n",
    "def are_anagrams(str1, str2):\n",
    "    \n",
    "    str1 = str1.lower().replace(\" \", \"\")\n",
    "    str2 = str2.lower().replace(\" \", \"\")\n",
    "    return sorted(str1) == sorted(str2)\n",
    "\n",
    "\n",
    "string1 = \"binary\"\n",
    "string2 = \"brainy\"\n",
    "if are_anagrams(string1, string2):\n",
    "    print(f\"{string1} and {string2} are anagrams.\")\n",
    "else:\n",
    "    print(f\"{string1} and {string2} are not anagrams.\")\n"
   ]
  },
  {
   "cell_type": "code",
   "execution_count": 20,
   "id": "a8c81384",
   "metadata": {},
   "outputs": [
    {
     "name": "stdout",
     "output_type": "stream",
     "text": [
      "The first non-repeating character in 'iineuron' is: e\n"
     ]
    }
   ],
   "source": [
    "#Question 22\n",
    "def find_first_non_repeating_character(string):\n",
    "    char_count = {}\n",
    "\n",
    "    for char in string:\n",
    "        if char in char_count:\n",
    "            char_count[char] += 1\n",
    "        else:\n",
    "            char_count[char] = 1\n",
    "\n",
    "    for char in string:\n",
    "        if char_count[char] == 1:\n",
    "            return char\n",
    "\n",
    "    return None\n",
    "\n",
    "\n",
    "input_string = \"iineuron\"\n",
    "first_non_repeating = find_first_non_repeating_character(input_string)\n",
    "print(f\"The first non-repeating character in '{input_string}' is: {first_non_repeating}\")\n"
   ]
  },
  {
   "cell_type": "code",
   "execution_count": 23,
   "id": "59f006b7",
   "metadata": {},
   "outputs": [
    {
     "name": "stdout",
     "output_type": "stream",
     "text": [
      "The prime factors of 150 are: [2, 3, 5, 5]\n"
     ]
    }
   ],
   "source": [
    "#Question 23\n",
    "def find_prime_factors(n):\n",
    "    prime_factors = []\n",
    "    i = 2\n",
    "\n",
    "    while i * i <= n:\n",
    "        if n % i == 0:\n",
    "            prime_factors.append(i)\n",
    "            n //= i\n",
    "        else:\n",
    "            i += 1\n",
    "\n",
    "    if n > 1:\n",
    "        prime_factors.append(n)\n",
    "\n",
    "    return prime_factors\n",
    "\n",
    "\n",
    "number = 150\n",
    "prime_factors = find_prime_factors(number)\n",
    "print(f\"The prime factors of {number} are:\", prime_factors)\n"
   ]
  },
  {
   "cell_type": "code",
   "execution_count": 30,
   "id": "f3224339",
   "metadata": {},
   "outputs": [
    {
     "name": "stdout",
     "output_type": "stream",
     "text": [
      "64 is a power of two.\n"
     ]
    }
   ],
   "source": [
    "#Question 24\n",
    "def is_power_of_two(n):\n",
    "    if n <= 0:\n",
    "        return False\n",
    "\n",
    "    return n & (n - 1) == 0\n",
    "\n",
    "\n",
    "number = 64\n",
    "if is_power_of_two(number):\n",
    "    print(f\"{number} is a power of two.\")\n",
    "else:\n",
    "    print(f\"{number} is not a power of two.\")\n"
   ]
  },
  {
   "cell_type": "code",
   "execution_count": 12,
   "id": "a88bf225",
   "metadata": {},
   "outputs": [],
   "source": [
    "#Question 25 \n",
    "def merge_sorted_lists(list1, list2):\n",
    "    sorted_list1 = sorted(list1)\n",
    "    sorted_list2 = sorted(list2)\n",
    "    merged_list = []\n",
    "\n",
    "    i = j = 0\n",
    "    while i < len(sorted_list1) and j < len(sorted_list2):\n",
    "        if sorted_list1[i] < sorted_list2[j]:\n",
    "            merged_list.append(sorted_list1[i])\n",
    "            i += 1\n",
    "        else:\n",
    "            merged_list.append(sorted_list2[j])\n",
    "            j += 1\n",
    "\n",
    "    merged_list.extend(sorted_list1[i:])\n",
    "\n",
    "    merged_list.extend(sorted_list2[j:])\n",
    "\n",
    "    return merged_list"
   ]
  },
  {
   "cell_type": "code",
   "execution_count": 13,
   "id": "d615d889",
   "metadata": {},
   "outputs": [
    {
     "name": "stdout",
     "output_type": "stream",
     "text": [
      "[0, 1, 2, 3, 8, 11, 15, 19, 20, 21, 23, 50]\n"
     ]
    }
   ],
   "source": [
    "list1 = [23, 50, 0, 1, 2, 3, 8]\n",
    "list2 = [20, 21, 19, 11, 15]\n",
    "merged_list = merge_sorted_lists(list1, list2)\n",
    "print(merged_list)"
   ]
  },
  {
   "cell_type": "code",
   "execution_count": 15,
   "id": "77f51d51",
   "metadata": {},
   "outputs": [],
   "source": [
    "#Question 26\n",
    "from collections import Counter\n",
    "\n",
    "def find_mode(n):\n",
    "    counter = Counter(n)\n",
    "    max_count = max(counter.values())\n",
    "    mode = [n for n, count in counter.items() if count == max_count]\n",
    "    return mode\n"
   ]
  },
  {
   "cell_type": "code",
   "execution_count": 16,
   "id": "f133cc66",
   "metadata": {},
   "outputs": [
    {
     "name": "stdout",
     "output_type": "stream",
     "text": [
      "Mode: [1]\n"
     ]
    }
   ],
   "source": [
    "n = [1,1,1,1,2,2,2,4,4,4]\n",
    "mode = find_mode(n)\n",
    "print(\"Mode:\", mode)\n"
   ]
  },
  {
   "cell_type": "code",
   "execution_count": 20,
   "id": "b92ddb13",
   "metadata": {},
   "outputs": [
    {
     "name": "stdout",
     "output_type": "stream",
     "text": [
      "GCD: 3\n"
     ]
    }
   ],
   "source": [
    "#Question 27\n",
    "def gcd(a, b):\n",
    "    while b != 0:\n",
    "        a, b = b, a % b\n",
    "    return a\n",
    "\n",
    "n1 = 96\n",
    "n2 = 69\n",
    "result = gcd(n1, n2)\n",
    "print(\"GCD:\", result)\n"
   ]
  },
  {
   "cell_type": "code",
   "execution_count": 26,
   "id": "5a738aca",
   "metadata": {},
   "outputs": [],
   "source": [
    "#Question 28\n",
    "def square_root(n):\n",
    "    if n<0:\n",
    "        return 'cannot find a square root of negative number'\n",
    "    elif n==0:\n",
    "        return 0\n",
    "    else:\n",
    "        return n**(0.5)"
   ]
  },
  {
   "cell_type": "code",
   "execution_count": 30,
   "id": "1fd69ec4",
   "metadata": {},
   "outputs": [
    {
     "data": {
      "text/plain": [
       "7.0"
      ]
     },
     "execution_count": 30,
     "metadata": {},
     "output_type": "execute_result"
    }
   ],
   "source": [
    "square_root(49)"
   ]
  },
  {
   "cell_type": "code",
   "execution_count": 1,
   "id": "5fbf6914",
   "metadata": {},
   "outputs": [],
   "source": [
    "#Question 29\n",
    "def palindrome(n):\n",
    "    for i in range(len(n)):\n",
    "        if n[i]!=n[len(n)-i-1]:\n",
    "            return \"not palindrome\"\n",
    "            break \n",
    "        else:\n",
    "            return \"palindrome\""
   ]
  },
  {
   "cell_type": "code",
   "execution_count": 6,
   "id": "16e64872",
   "metadata": {},
   "outputs": [
    {
     "data": {
      "text/plain": [
       "'palindrome'"
      ]
     },
     "execution_count": 6,
     "metadata": {},
     "output_type": "execute_result"
    }
   ],
   "source": [
    "palindrome('malyalam')"
   ]
  },
  {
   "cell_type": "code",
   "execution_count": 8,
   "id": "ee1b2f35",
   "metadata": {},
   "outputs": [],
   "source": [
    "#Question 30\n",
    "def find_min_rotated(nums):\n",
    "    left = 0\n",
    "    right = len(nums) - 1\n",
    "\n",
    "    while left < right:\n",
    "        mid = left + (right - left) // 2\n",
    "\n",
    "        if nums[mid] > nums[right]:\n",
    "            left = mid + 1\n",
    "        else:\n",
    "            right = mid\n",
    "\n",
    "    return nums[left]"
   ]
  },
  {
   "cell_type": "code",
   "execution_count": 10,
   "id": "2bd569d0",
   "metadata": {},
   "outputs": [
    {
     "name": "stdout",
     "output_type": "stream",
     "text": [
      "Minimum element: 1\n"
     ]
    }
   ],
   "source": [
    "rotated_list = [45,67,89,2,1,4]\n",
    "minimum = find_min_rotated(rotated_list)\n",
    "print(\"Minimum element:\", minimum)"
   ]
  },
  {
   "cell_type": "code",
   "execution_count": 11,
   "id": "a5576c82",
   "metadata": {},
   "outputs": [],
   "source": [
    "#Question 31\n",
    "def sum_even_number(l):\n",
    "    l1=[]\n",
    "    if len(l)==0:\n",
    "        return 0\n",
    "    for i in range(len(l)):\n",
    "        if l[i]%2==0:\n",
    "            l1.append(l[i])\n",
    "    return sum(l1)\n",
    "            "
   ]
  },
  {
   "cell_type": "code",
   "execution_count": 12,
   "id": "11790fae",
   "metadata": {},
   "outputs": [
    {
     "data": {
      "text/plain": [
       "12"
      ]
     },
     "execution_count": 12,
     "metadata": {},
     "output_type": "execute_result"
    }
   ],
   "source": [
    "sum_even_number([1,2,3,4,5,6])"
   ]
  },
  {
   "cell_type": "code",
   "execution_count": 14,
   "id": "895a870f",
   "metadata": {},
   "outputs": [],
   "source": [
    "#Question 32\n",
    "def power(base, exponent):\n",
    "    if exponent == 0:\n",
    "        return 1\n",
    "    elif exponent < 0:\n",
    "        return 1 / power(base, -exponent)\n",
    "    else:\n",
    "        return base * power(base, exponent - 1)"
   ]
  },
  {
   "cell_type": "code",
   "execution_count": 15,
   "id": "f9abc6c0",
   "metadata": {},
   "outputs": [
    {
     "name": "stdout",
     "output_type": "stream",
     "text": [
      "10 raised to the power of 3 is: 1000\n"
     ]
    }
   ],
   "source": [
    "base = 10\n",
    "exponent = 3\n",
    "result = power(base, exponent)\n",
    "print(base, \"raised to the power of\", exponent, \"is:\", result)"
   ]
  },
  {
   "cell_type": "code",
   "execution_count": 16,
   "id": "14d7da23",
   "metadata": {},
   "outputs": [],
   "source": [
    "#Question 33\n",
    "def remove_duplicates(lst):\n",
    "    s= set()\n",
    "    result = []\n",
    "    \n",
    "    for item in lst:\n",
    "        if item not in s:\n",
    "            s.add(item)\n",
    "            result.append(item)\n",
    "    \n",
    "    return result"
   ]
  },
  {
   "cell_type": "code",
   "execution_count": 18,
   "id": "2c8e8903",
   "metadata": {},
   "outputs": [
    {
     "name": "stdout",
     "output_type": "stream",
     "text": [
      "Original list: [1, 1, 1, 12, 2, 34, 44, 4, 4, 34, 2]\n",
      "Deduplicated list: [1, 12, 2, 34, 44, 4]\n"
     ]
    }
   ],
   "source": [
    "\n",
    "original_list = [1,1,1,12,2,34,44,4,4,34,2]\n",
    "deduplicated_list = remove_duplicates(original_list)\n",
    "print(\"Original list:\", original_list)\n",
    "print(\"Deduplicated list:\", deduplicated_list)\n"
   ]
  },
  {
   "cell_type": "code",
   "execution_count": 19,
   "id": "087fbb31",
   "metadata": {},
   "outputs": [],
   "source": [
    "#Question 34\n",
    "def longest_common_prefix(strs):\n",
    "    if not strs:\n",
    "        return \"\"\n",
    "\n",
    "    strs.sort()\n",
    "\n",
    "    first_str = strs[0]\n",
    "    last_str = strs[-1]\n",
    "\n",
    "    prefix = \"\"\n",
    "    for i in range(len(first_str)):\n",
    "        if first_str[i] == last_str[i]:\n",
    "            prefix += first_str[i]\n",
    "        else:\n",
    "            break\n",
    "\n",
    "    return prefix\n"
   ]
  },
  {
   "cell_type": "code",
   "execution_count": 21,
   "id": "1e9ed3a7",
   "metadata": {},
   "outputs": [
    {
     "name": "stdout",
     "output_type": "stream",
     "text": [
      "Longest common prefix: long\n"
     ]
    }
   ],
   "source": [
    "string_list = [\"long\", \"longer\", \"longest\"]\n",
    "common_prefix = longest_common_prefix(string_list)\n",
    "print(\"Longest common prefix:\", common_prefix)"
   ]
  },
  {
   "cell_type": "code",
   "execution_count": 22,
   "id": "a8c97b06",
   "metadata": {},
   "outputs": [
    {
     "name": "stdout",
     "output_type": "stream",
     "text": [
      "25 is a perfect square: True\n"
     ]
    }
   ],
   "source": [
    "#Question 35\n",
    "def is_perfect_square(number):\n",
    "    if number < 0:\n",
    "        return False\n",
    "\n",
    "    root = int(number ** 0.5)\n",
    "    return root * root == number\n",
    "\n",
    "num = 25\n",
    "is_square = is_perfect_square(num)\n",
    "print(num, \"is a perfect square:\", is_square)\n"
   ]
  },
  {
   "cell_type": "code",
   "execution_count": 24,
   "id": "faa980e7",
   "metadata": {},
   "outputs": [],
   "source": [
    "#Question 36\n",
    "def calculate_product(numbers):\n",
    "    if not numbers:\n",
    "        return 0\n",
    "\n",
    "    product = 1\n",
    "    for num in numbers:\n",
    "        product *= num\n",
    "\n",
    "    return product"
   ]
  },
  {
   "cell_type": "code",
   "execution_count": 26,
   "id": "2727b72f",
   "metadata": {},
   "outputs": [
    {
     "name": "stdout",
     "output_type": "stream",
     "text": [
      "1032\n"
     ]
    }
   ],
   "source": [
    "result=calculate_product([1,2,3,43,4])\n",
    "print(result)"
   ]
  },
  {
   "cell_type": "code",
   "execution_count": 27,
   "id": "22c34bf2",
   "metadata": {},
   "outputs": [],
   "source": [
    "#Question 37\n",
    "def reverse_sentence(sentence):\n",
    "    words = sentence.split()\n",
    "    reversed_words = words[::-1]\n",
    "    reversed_sentence = ' '.join(reversed_words)\n",
    "    return reversed_sentence\n"
   ]
  },
  {
   "cell_type": "code",
   "execution_count": 28,
   "id": "8ba42d36",
   "metadata": {},
   "outputs": [
    {
     "name": "stdout",
     "output_type": "stream",
     "text": [
      "Original sentence: ineuron, i am a student of fsds batch\n",
      "Reversed sentence: batch fsds of student a am i ineuron,\n"
     ]
    }
   ],
   "source": [
    "sentence = \"ineuron, i am a student of fsds batch\"\n",
    "reversed_sentence = reverse_sentence(sentence)\n",
    "print(\"Original sentence:\", sentence)\n",
    "print(\"Reversed sentence:\", reversed_sentence)\n"
   ]
  },
  {
   "cell_type": "code",
   "execution_count": 29,
   "id": "fc7d30ac",
   "metadata": {},
   "outputs": [],
   "source": [
    "#Question 38\n",
    "def find_missing_number(numbers):\n",
    "    n = len(numbers) + 1\n",
    "    expected_sum = (n * (n + 1)) // 2\n",
    "    actual_sum = sum(numbers)\n",
    "    missing_number = expected_sum - actual_sum\n",
    "    return missing_number"
   ]
  },
  {
   "cell_type": "code",
   "execution_count": 30,
   "id": "4eaec75c",
   "metadata": {},
   "outputs": [
    {
     "name": "stdout",
     "output_type": "stream",
     "text": [
      "Missing number: 3\n"
     ]
    }
   ],
   "source": [
    "number_list = [1, 2, 4, 5, 6]\n",
    "missing_number = find_missing_number(number_list)\n",
    "print(\"Missing number:\", missing_number)"
   ]
  },
  {
   "cell_type": "code",
   "execution_count": 31,
   "id": "1c5559d2",
   "metadata": {},
   "outputs": [],
   "source": [
    "#Question 39\n",
    "def sum_of_digits(number):\n",
    "    num_str = str(number)\n",
    "    digit_sum = 0\n",
    "    for digit in num_str:\n",
    "        digit_sum += int(digit)\n",
    "\n",
    "    return digit_sum"
   ]
  },
  {
   "cell_type": "code",
   "execution_count": 33,
   "id": "bdc3876a",
   "metadata": {},
   "outputs": [
    {
     "name": "stdout",
     "output_type": "stream",
     "text": [
      "Sum of digits: 29\n"
     ]
    }
   ],
   "source": [
    "num = 78905\n",
    "result = sum_of_digits(num)\n",
    "print(\"Sum of digits:\", result)\n"
   ]
  },
  {
   "cell_type": "code",
   "execution_count": 35,
   "id": "bf44b5fe",
   "metadata": {},
   "outputs": [],
   "source": [
    "#Question 40\n",
    "def palindrome(n):\n",
    "    for i in range(len(n)):\n",
    "        if n[i]!=n[len(n)-i-1]:\n",
    "            return \"not palindrome\"\n",
    "            break \n",
    "        else:\n",
    "            return \"palindrome\""
   ]
  },
  {
   "cell_type": "code",
   "execution_count": 36,
   "id": "e47ef114",
   "metadata": {},
   "outputs": [
    {
     "data": {
      "text/plain": [
       "'palindrome'"
      ]
     },
     "execution_count": 36,
     "metadata": {},
     "output_type": "execute_result"
    }
   ],
   "source": [
    "palindrome('malyalam')"
   ]
  },
  {
   "cell_type": "code",
   "execution_count": 39,
   "id": "236a44bc",
   "metadata": {},
   "outputs": [],
   "source": [
    "#Question 41\n",
    "def find_smallest_missing_positive(n):\n",
    " \n",
    "    positive_nums = [num for num in n if num > 0]\n",
    "\n",
    "    if not positive_nums:\n",
    "        return 1\n",
    "\n",
    "    positive_nums.sort()\n",
    "    smallest_missing = 1\n",
    "    for num in positive_nums:\n",
    "        if num == smallest_missing:\n",
    "            smallest_missing += 1\n",
    "        elif num > smallest_missing:\n",
    "            return smallest_missing\n",
    "\n",
    "    return smallest_missing"
   ]
  },
  {
   "cell_type": "code",
   "execution_count": 41,
   "id": "6e46b0ad",
   "metadata": {},
   "outputs": [
    {
     "name": "stdout",
     "output_type": "stream",
     "text": [
      "Smallest missing positive integer: 4\n"
     ]
    }
   ],
   "source": [
    "list = [1,2,3,4-5,-6,-1,-3,-9]\n",
    "smallest_missing = find_smallest_missing_positive(list)\n",
    "print(\"Smallest missing positive integer:\", smallest_missing)"
   ]
  },
  {
   "cell_type": "code",
   "execution_count": 42,
   "id": "c97f64e8",
   "metadata": {},
   "outputs": [],
   "source": [
    "#Question 43\n",
    "def count_occurrences(lst, element):\n",
    "    count = 0\n",
    "\n",
    "    for item in lst:\n",
    "        if item == element:\n",
    "            count += 1\n",
    "\n",
    "    return count"
   ]
  },
  {
   "cell_type": "code",
   "execution_count": 44,
   "id": "7d46cd17",
   "metadata": {},
   "outputs": [
    {
     "name": "stdout",
     "output_type": "stream",
     "text": [
      "Number of occurrences of 9 : 4\n"
     ]
    }
   ],
   "source": [
    "list = [2,3,4,5,67,12,23,9,9,9,9]\n",
    "element = 9\n",
    "occurrences = count_occurrences(list, element)\n",
    "print(\"Number of occurrences of\", element, \":\", occurrences)"
   ]
  },
  {
   "cell_type": "code",
   "execution_count": 45,
   "id": "000a02d1",
   "metadata": {},
   "outputs": [],
   "source": [
    "#Question 44\n",
    "def is_perfect_number(number):\n",
    "    if number <= 0:\n",
    "        return False\n",
    "\n",
    "    divisors_sum = 0\n",
    "    for i in range(1, number):\n",
    "        if number % i == 0:\n",
    "            divisors_sum += i\n",
    "\n",
    "    return divisors_sum == number"
   ]
  },
  {
   "cell_type": "code",
   "execution_count": 46,
   "id": "1913c8fd",
   "metadata": {},
   "outputs": [
    {
     "name": "stdout",
     "output_type": "stream",
     "text": [
      "28 is a perfect number: True\n"
     ]
    }
   ],
   "source": [
    "num = 28\n",
    "is_perfect = is_perfect_number(num)\n",
    "print(num, \"is a perfect number:\", is_perfect)"
   ]
  },
  {
   "cell_type": "code",
   "execution_count": 50,
   "id": "425d7aa9",
   "metadata": {},
   "outputs": [],
   "source": [
    "#Question 45\n",
    "def remove_duplicates(string):\n",
    "    unique_chars = set()\n",
    "\n",
    "    result = \"\"\n",
    "\n",
    "    for char in string:\n",
    "        if char not in unique_chars:\n",
    "            result += char\n",
    "            unique_chars.add(char)\n",
    "\n",
    "    return result"
   ]
  },
  {
   "cell_type": "code",
   "execution_count": 51,
   "id": "00dabc45",
   "metadata": {},
   "outputs": [
    {
     "name": "stdout",
     "output_type": "stream",
     "text": [
      "String with duplicates removed: this mycode\n"
     ]
    }
   ],
   "source": [
    "text = \"this is my code\"\n",
    "result = remove_duplicates(text)\n",
    "print(\"String with duplicates removed:\", result)"
   ]
  },
  {
   "cell_type": "code",
   "execution_count": 52,
   "id": "c39769b9",
   "metadata": {},
   "outputs": [
    {
     "name": "stdout",
     "output_type": "stream",
     "text": [
      "First missing positive number: 2\n"
     ]
    }
   ],
   "source": [
    "#Question 46\n",
    "def find_first_missing_positive(numbers):\n",
    "    n = len(numbers)\n",
    "\n",
    "    for i in range(n):\n",
    "        if numbers[i] <= 0 or numbers[i] > n:\n",
    "            numbers[i] = n + 1\n",
    "\n",
    "    for i in range(n):\n",
    "        num = abs(numbers[i])\n",
    "        if num <= n:\n",
    "            numbers[num - 1] = -abs(numbers[num - 1])\n",
    "\n",
    "    for i in range(n):\n",
    "        if numbers[i] > 0:\n",
    "            return i + 1\n",
    "\n",
    "    return n + 1\n",
    "\n",
    "\n",
    "number_list = [3, 4, -1, 1]\n",
    "missing_number = find_first_missing_positive(number_list)\n",
    "print(\"First missing positive number:\", missing_number)\n"
   ]
  },
  {
   "cell_type": "code",
   "execution_count": null,
   "id": "46469208",
   "metadata": {},
   "outputs": [],
   "source": []
  }
 ],
 "metadata": {
  "kernelspec": {
   "display_name": "Python 3 (ipykernel)",
   "language": "python",
   "name": "python3"
  },
  "language_info": {
   "codemirror_mode": {
    "name": "ipython",
    "version": 3
   },
   "file_extension": ".py",
   "mimetype": "text/x-python",
   "name": "python",
   "nbconvert_exporter": "python",
   "pygments_lexer": "ipython3",
   "version": "3.9.13"
  }
 },
 "nbformat": 4,
 "nbformat_minor": 5
}
